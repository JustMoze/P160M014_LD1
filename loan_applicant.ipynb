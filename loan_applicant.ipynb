{
 "cells": [
  {
   "cell_type": "code",
   "execution_count": 8,
   "id": "47712674-5346-4e6d-b893-138e3ceb1bcb",
   "metadata": {},
   "outputs": [
    {
     "name": "stdout",
     "output_type": "stream",
     "text": [
      "Overwriting loan_applicant.py\n"
     ]
    }
   ],
   "source": [
    "%%writefile loan_applicant.py\n",
    "import uuid\n",
    "class LoanApplicantProfile:\n",
    "    def __init__(self, age, income, home, emp_length, intent, amount, rate, status, percent_income, default, cred_length):\n",
    "        self.id = uuid.uuid4()\n",
    "        self.age = age\n",
    "        self.income = income\n",
    "        self.home = home\n",
    "        self.emp_length = emp_length\n",
    "        self.intent = intent\n",
    "        self.amount = amount\n",
    "        self.rate = rate\n",
    "        self.status = status\n",
    "        self.percent_income = percent_income\n",
    "        self.default = default\n",
    "        self.cred_length = cred_length\n",
    "\n",
    "    def __str__(self):\n",
    "        return f\"\"\"ID: {self.id}, Age: {self.age}, Income: {self.income}, \n",
    "        Home: {self.home}, Employment Length: {self.emp_length}, Intent: {self.intent}, Amount: {self.amount}, \n",
    "        Rate: {self.rate}, Status: {self.status}, Percent of Income: {self.percent_income}, \n",
    "        Default: {self.default}, Credit Length: {self.cred_length}\"\"\""
   ]
  }
 ],
 "metadata": {
  "kernelspec": {
   "display_name": "Python 3 (ipykernel)",
   "language": "python",
   "name": "python3"
  },
  "language_info": {
   "codemirror_mode": {
    "name": "ipython",
    "version": 3
   },
   "file_extension": ".py",
   "mimetype": "text/x-python",
   "name": "python",
   "nbconvert_exporter": "python",
   "pygments_lexer": "ipython3",
   "version": "3.9.18"
  }
 },
 "nbformat": 4,
 "nbformat_minor": 5
}
